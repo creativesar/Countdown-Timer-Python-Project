{
  "nbformat": 4,
  "nbformat_minor": 0,
  "metadata": {
    "colab": {
      "provenance": [],
      "authorship_tag": "ABX9TyN28Y/sg6kCIcm4hPAVqyrn",
      "include_colab_link": true
    },
    "kernelspec": {
      "name": "python3",
      "display_name": "Python 3"
    },
    "language_info": {
      "name": "python"
    }
  },
  "cells": [
    {
      "cell_type": "markdown",
      "metadata": {
        "id": "view-in-github",
        "colab_type": "text"
      },
      "source": [
        "<a href=\"https://colab.research.google.com/github/creativesar/Countdown-Timer-Python-Project/blob/main/Countdown_Timer_Python_Project.ipynb\" target=\"_parent\"><img src=\"https://colab.research.google.com/assets/colab-badge.svg\" alt=\"Open In Colab\"/></a>"
      ]
    },
    {
      "cell_type": "code",
      "execution_count": null,
      "metadata": {
        "colab": {
          "base_uri": "https://localhost:8080/"
        },
        "id": "d7pNNRdU8jdl",
        "outputId": "09a00d1e-8b4d-473a-a691-66e1dbb444ab"
      },
      "outputs": [
        {
          "output_type": "stream",
          "name": "stdout",
          "text": [
            "=== Python Countdown Timer ===\n",
            "Enter countdown duration:\n"
          ]
        }
      ],
      "source": [
        "import time\n",
        "import os\n",
        "import sys\n",
        "\n",
        "def clear_screen():\n",
        "    \"\"\"Clear the terminal screen based on the operating system.\"\"\"\n",
        "    os.system('cls' if os.name == 'nt' else 'clear')\n",
        "\n",
        "def format_time(seconds):\n",
        "    \"\"\"Convert seconds to hours:minutes:seconds format.\"\"\"\n",
        "    hours, remainder = divmod(seconds, 3600)\n",
        "    minutes, seconds = divmod(remainder, 60)\n",
        "    return f\"{int(hours):02d}:{int(minutes):02d}:{int(seconds):02d}\"\n",
        "\n",
        "def countdown(duration):\n",
        "    \"\"\"Start a countdown timer for the specified duration in seconds.\"\"\"\n",
        "    start_time = time.time()\n",
        "    end_time = start_time + duration\n",
        "\n",
        "    try:\n",
        "        while time.time() < end_time:\n",
        "            remaining = end_time - time.time()\n",
        "            clear_screen()\n",
        "            print(f\"Time remaining: {format_time(remaining)}\")\n",
        "            time.sleep(0.1)  # Update display approximately 10 times per second\n",
        "\n",
        "        clear_screen()\n",
        "        print(\"Countdown complete!\")\n",
        "        print(\"\\a\")  # ASCII bell character for sound notification\n",
        "    except KeyboardInterrupt:\n",
        "        clear_screen()\n",
        "        print(\"Countdown interrupted!\")\n",
        "        return\n",
        "\n",
        "def get_duration():\n",
        "    \"\"\"Get the countdown duration from the user.\"\"\"\n",
        "    while True:\n",
        "        try:\n",
        "            print(\"Enter countdown duration:\")\n",
        "            hours = int(input(\"Hours: \"))\n",
        "            minutes = int(input(\"Minutes: \"))\n",
        "            seconds = int(input(\"Seconds: \"))\n",
        "\n",
        "            total_seconds = hours * 3600 + minutes * 60 + seconds\n",
        "\n",
        "            if total_seconds <= 0:\n",
        "                print(\"Please enter a positive duration.\")\n",
        "                continue\n",
        "\n",
        "            return total_seconds\n",
        "        except ValueError:\n",
        "            print(\"Please enter valid numbers.\")\n",
        "\n",
        "def main():\n",
        "    \"\"\"Main function to run the countdown timer.\"\"\"\n",
        "    print(\"=== Python Countdown Timer ===\")\n",
        "\n",
        "    duration = get_duration()\n",
        "    print(f\"Starting countdown for {format_time(duration)}...\")\n",
        "    time.sleep(2)  # Brief pause before starting\n",
        "\n",
        "    countdown(duration)\n",
        "\n",
        "if __name__ == \"__main__\":\n",
        "    main()"
      ]
    }
  ]
}